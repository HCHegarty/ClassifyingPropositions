{
  "cells": [
    {
      "cell_type": "code",
      "execution_count": 1,
      "metadata": {
        "colab": {
          "base_uri": "https://localhost:8080/"
        },
        "id": "DwG4XzXFuynY",
        "outputId": "96339707-d9ca-4498-beb7-aafd905dcc35"
      },
      "outputs": [
        {
          "name": "stderr",
          "output_type": "stream",
          "text": [
            "'pip' is not recognized as an internal or external command,\n",
            "operable program or batch file.\n"
          ]
        }
      ],
      "source": [
        "!pip install transformers"
      ]
    },
    {
      "cell_type": "code",
      "execution_count": 1,
      "metadata": {
        "id": "pdAfS5WcvCVj"
      },
      "outputs": [],
      "source": [
        "import numpy as np\n",
        "import pandas as pd\n",
        "from sklearn.model_selection import train_test_split\n",
        "from sklearn.model_selection import GridSearchCV\n",
        "from sklearn.model_selection import cross_val_score\n",
        "import torch\n",
        "import transformers as ppb\n",
        "import warnings\n",
        "\n",
        "warnings.filterwarnings('ignore')"
      ]
    },
    {
      "cell_type": "code",
      "execution_count": 2,
      "metadata": {
        "id": "UOV9E_fiatKS"
      },
      "outputs": [],
      "source": [
        "#For logistic regression\n",
        "from sklearn.linear_model import LogisticRegression"
      ]
    },
    {
      "cell_type": "code",
      "execution_count": 3,
      "metadata": {
        "id": "fr6mPaBEas4j"
      },
      "outputs": [],
      "source": [
        "#For naive bayes\n",
        "from sklearn.naive_bayes import GaussianNB\n",
        "from sklearn.naive_bayes import MultinomialNB\n",
        "from sklearn.naive_bayes import CategoricalNB"
      ]
    },
    {
      "cell_type": "code",
      "execution_count": 3,
      "metadata": {
        "id": "TdUAJHCgashr"
      },
      "outputs": [],
      "source": [
        "#for linear svc\n",
        "from sklearn import svm"
      ]
    },
    {
      "cell_type": "code",
      "execution_count": 4,
      "metadata": {
        "id": "w8H_ZGvDv10m"
      },
      "outputs": [],
      "source": [
        "#read dataset into dataframe\n",
        "df = pd.read_csv(\"FormattedTrainingDataset.csv\", delimiter=',', header=None)"
      ]
    },
    {
      "cell_type": "code",
      "execution_count": 8,
      "metadata": {
        "id": "R2UwqSm7wecj"
      },
      "outputs": [],
      "source": [
        "#instantiate DistilBERT model\n",
        "\n",
        "d_model_class, d_tokenizer_class, d_pretrained_weights = (ppb.DistilBertModel, ppb.DistilBertTokenizer, 'distilbert-base-uncased')\n",
        "d_tokenizer = d_tokenizer_class.from_pretrained(d_pretrained_weights)\n",
        "d_model = d_model_class.from_pretrained(d_pretrained_weights)"
      ]
    },
    {
      "cell_type": "code",
      "execution_count": 5,
      "metadata": {
        "id": "tgW9-n3_ZSPD"
      },
      "outputs": [],
      "source": [
        "#instantiate BERT model\n",
        "model_class, tokenizer_class, pretrained_weights = (ppb.BertModel, ppb.BertTokenizer, 'bert-base-uncased')\n",
        "tokenizer = tokenizer_class.from_pretrained(pretrained_weights)\n",
        "\n",
        "model = model_class.from_pretrained(pretrained_weights)"
      ]
    },
    {
      "cell_type": "code",
      "execution_count": 6,
      "metadata": {
        "id": "QGh3k93QpfyM"
      },
      "outputs": [],
      "source": [
        "batch_1 = df[:3800]"
      ]
    },
    {
      "cell_type": "code",
      "execution_count": 7,
      "metadata": {
        "colab": {
          "base_uri": "https://localhost:8080/"
        },
        "id": "_i0AfgQypvZ3",
        "outputId": "a5a61e51-858d-4e1d-fd99-5be9d8dab68c"
      },
      "outputs": [
        {
          "data": {
            "text/plain": [
              "value     2182\n",
              "policy     815\n",
              "fact       786\n",
              "Name: 1, dtype: int64"
            ]
          },
          "execution_count": 7,
          "metadata": {},
          "output_type": "execute_result"
        }
      ],
      "source": [
        "batch_1[1].value_counts()"
      ]
    },
    {
      "cell_type": "code",
      "execution_count": 8,
      "metadata": {
        "id": "tUafUZPIpFY0"
      },
      "outputs": [],
      "source": [
        "#tokenize words into values in dataframe for BERT\n",
        "tokenized = batch_1[0].apply((lambda x: tokenizer.encode(x, add_special_tokens=True)))"
      ]
    },
    {
      "cell_type": "code",
      "execution_count": 69,
      "metadata": {},
      "outputs": [],
      "source": [
        "#tokenize words into values in dataframe for DistilBERT\n",
        "tokenized = batch_1[0].apply((lambda x: d_tokenizer.encode(x, add_special_tokens=True)))"
      ]
    },
    {
      "cell_type": "code",
      "execution_count": 9,
      "metadata": {
        "id": "k0d19e9Buula"
      },
      "outputs": [],
      "source": [
        "#pad each line in dataframe to a uniform length\n",
        "max_len = 0\n",
        "for i in tokenized.values:\n",
        "  if len(i) > max_len:\n",
        "    max_len = len(i)\n",
        "padded = np.array([i + [0]*(max_len-len(i)) for i in tokenized.values])"
      ]
    },
    {
      "cell_type": "code",
      "execution_count": 10,
      "metadata": {
        "colab": {
          "base_uri": "https://localhost:8080/"
        },
        "id": "d6QVVmjz1enS",
        "outputId": "ba5387f3-0930-4e30-d8f6-fa9a4e3b008a"
      },
      "outputs": [
        {
          "data": {
            "text/plain": [
              "(3783, 116)"
            ]
          },
          "execution_count": 10,
          "metadata": {},
          "output_type": "execute_result"
        }
      ],
      "source": [
        "np.array(padded).shape"
      ]
    },
    {
      "cell_type": "code",
      "execution_count": 11,
      "metadata": {
        "colab": {
          "base_uri": "https://localhost:8080/"
        },
        "id": "KTNa9chn1lvq",
        "outputId": "5907c449-4f4a-4c2d-cb85-ab3b38a40b59"
      },
      "outputs": [
        {
          "data": {
            "text/plain": [
              "(3783, 116)"
            ]
          },
          "execution_count": 11,
          "metadata": {},
          "output_type": "execute_result"
        }
      ],
      "source": [
        "#create attention mask of the same shape as padded dataframe\n",
        "attention_mask = np.where(padded != 0, 1, 0)\n",
        "attention_mask.shape\n"
      ]
    },
    {
      "cell_type": "code",
      "execution_count": 12,
      "metadata": {
        "colab": {
          "base_uri": "https://localhost:8080/",
          "height": 232
        },
        "id": "Tfs7XMfS1zoG",
        "outputId": "1973d066-8899-41d2-cf36-6fb8871ca23b"
      },
      "outputs": [],
      "source": [
        "#run data through BERT model\n",
        "input_ids = torch.LongTensor(padded)\n",
        "attention_mask = torch.tensor(attention_mask)\n",
        "\n",
        "with torch.no_grad():\n",
        "  last_hidden_states = model(input_ids, attention_mask=attention_mask)"
      ]
    },
    {
      "cell_type": "code",
      "execution_count": 73,
      "metadata": {},
      "outputs": [],
      "source": [
        "#run data through DistilBERT model\n",
        "input_ids = torch.LongTensor(padded)\n",
        "attention_mask = torch.tensor(attention_mask)\n",
        "\n",
        "with torch.no_grad():\n",
        "  last_hidden_states = d_model(input_ids, attention_mask=attention_mask)"
      ]
    },
    {
      "cell_type": "code",
      "execution_count": 13,
      "metadata": {
        "id": "eD22SvtcIwph"
      },
      "outputs": [],
      "source": [
        "#create list of processed statements\n",
        "features = last_hidden_states[0][:,0,:].numpy()"
      ]
    },
    {
      "cell_type": "code",
      "execution_count": 14,
      "metadata": {
        "id": "ejW6CxrBIxoV"
      },
      "outputs": [],
      "source": [
        "#create list of labels\n",
        "labels = batch_1[1]"
      ]
    },
    {
      "cell_type": "code",
      "execution_count": 15,
      "metadata": {},
      "outputs": [],
      "source": [
        "#necessary imports for stratified k-fold validation\n",
        "from statistics import mean, stdev\n",
        "from sklearn import preprocessing\n",
        "from sklearn.model_selection import StratifiedKFold\n",
        "from sklearn import datasets"
      ]
    },
    {
      "cell_type": "code",
      "execution_count": 16,
      "metadata": {
        "id": "YVU-DDgzIz98"
      },
      "outputs": [],
      "source": [
        "#instantiate variables for stratified train test split\n",
        "train_features, test_features, train_labels, test_labels = train_test_split(features, labels, random_state=1, stratify=labels)"
      ]
    },
    {
      "cell_type": "code",
      "execution_count": 122,
      "metadata": {},
      "outputs": [],
      "source": [
        "#instantiate variables for stratified k-fold validation\n",
        "from sklearn.metrics import f1_score\n",
        "scaler = preprocessing.MinMaxScaler()\n",
        "features_scaled = scaler.fit_transform(features)\n",
        "skf = StratifiedKFold(n_splits=10, shuffle=True, random_state=1)\n",
        "lst_accu_stratified = []\n",
        "lst_f1_stratified = []\n",
        "\n"
      ]
    },
    {
      "cell_type": "code",
      "execution_count": 131,
      "metadata": {},
      "outputs": [
        {
          "name": "stdout",
          "output_type": "stream",
          "text": [
            "(1, 768)\n",
            "(3783,)\n"
          ]
        },
        {
          "ename": "ValueError",
          "evalue": "Found input variables with inconsistent numbers of samples: [1, 3783]",
          "output_type": "error",
          "traceback": [
            "\u001b[1;31m---------------------------------------------------------------------------\u001b[0m",
            "\u001b[1;31mValueError\u001b[0m                                Traceback (most recent call last)",
            "\u001b[1;32m<ipython-input-131-8353eb3001ff>\u001b[0m in \u001b[0;36m<module>\u001b[1;34m\u001b[0m\n\u001b[0;32m      3\u001b[0m \u001b[0mprint\u001b[0m\u001b[1;33m(\u001b[0m\u001b[0mlabels\u001b[0m\u001b[1;33m.\u001b[0m\u001b[0mshape\u001b[0m\u001b[1;33m)\u001b[0m\u001b[1;33m\u001b[0m\u001b[1;33m\u001b[0m\u001b[0m\n\u001b[0;32m      4\u001b[0m \u001b[1;33m\u001b[0m\u001b[0m\n\u001b[1;32m----> 5\u001b[1;33m \u001b[1;32mfor\u001b[0m \u001b[0mtrain_index\u001b[0m\u001b[1;33m,\u001b[0m \u001b[0mtest_index\u001b[0m \u001b[1;32min\u001b[0m \u001b[0mskf\u001b[0m\u001b[1;33m.\u001b[0m\u001b[0msplit\u001b[0m\u001b[1;33m(\u001b[0m\u001b[0mfeatures\u001b[0m\u001b[1;33m,\u001b[0m \u001b[0mlabels\u001b[0m\u001b[1;33m)\u001b[0m\u001b[1;33m:\u001b[0m\u001b[1;33m\u001b[0m\u001b[1;33m\u001b[0m\u001b[0m\n\u001b[0m\u001b[0;32m      6\u001b[0m     \u001b[0mx_train_fold\u001b[0m\u001b[1;33m,\u001b[0m \u001b[0mx_test_fold\u001b[0m \u001b[1;33m=\u001b[0m \u001b[0mfeatures_scaled\u001b[0m\u001b[1;33m[\u001b[0m\u001b[0mtrain_index\u001b[0m\u001b[1;33m]\u001b[0m\u001b[1;33m,\u001b[0m \u001b[0mfeatures_scaled\u001b[0m\u001b[1;33m[\u001b[0m\u001b[0mtest_index\u001b[0m\u001b[1;33m]\u001b[0m\u001b[1;33m\u001b[0m\u001b[1;33m\u001b[0m\u001b[0m\n\u001b[0;32m      7\u001b[0m     \u001b[0my_train_fold\u001b[0m\u001b[1;33m,\u001b[0m \u001b[0my_test_fold\u001b[0m \u001b[1;33m=\u001b[0m \u001b[0mlabels\u001b[0m\u001b[1;33m[\u001b[0m\u001b[0mtrain_index\u001b[0m\u001b[1;33m]\u001b[0m\u001b[1;33m,\u001b[0m \u001b[0mlabels\u001b[0m\u001b[1;33m[\u001b[0m\u001b[0mtest_index\u001b[0m\u001b[1;33m]\u001b[0m\u001b[1;33m\u001b[0m\u001b[1;33m\u001b[0m\u001b[0m\n",
            "\u001b[1;32m~\\AppData\\Local\\Programs\\Python\\Python39\\lib\\site-packages\\sklearn\\model_selection\\_split.py\u001b[0m in \u001b[0;36msplit\u001b[1;34m(self, X, y, groups)\u001b[0m\n\u001b[0;32m    322\u001b[0m             \u001b[0mThe\u001b[0m \u001b[0mtesting\u001b[0m \u001b[0mset\u001b[0m \u001b[0mindices\u001b[0m \u001b[1;32mfor\u001b[0m \u001b[0mthat\u001b[0m \u001b[0msplit\u001b[0m\u001b[1;33m.\u001b[0m\u001b[1;33m\u001b[0m\u001b[1;33m\u001b[0m\u001b[0m\n\u001b[0;32m    323\u001b[0m         \"\"\"\n\u001b[1;32m--> 324\u001b[1;33m         \u001b[0mX\u001b[0m\u001b[1;33m,\u001b[0m \u001b[0my\u001b[0m\u001b[1;33m,\u001b[0m \u001b[0mgroups\u001b[0m \u001b[1;33m=\u001b[0m \u001b[0mindexable\u001b[0m\u001b[1;33m(\u001b[0m\u001b[0mX\u001b[0m\u001b[1;33m,\u001b[0m \u001b[0my\u001b[0m\u001b[1;33m,\u001b[0m \u001b[0mgroups\u001b[0m\u001b[1;33m)\u001b[0m\u001b[1;33m\u001b[0m\u001b[1;33m\u001b[0m\u001b[0m\n\u001b[0m\u001b[0;32m    325\u001b[0m         \u001b[0mn_samples\u001b[0m \u001b[1;33m=\u001b[0m \u001b[0m_num_samples\u001b[0m\u001b[1;33m(\u001b[0m\u001b[0mX\u001b[0m\u001b[1;33m)\u001b[0m\u001b[1;33m\u001b[0m\u001b[1;33m\u001b[0m\u001b[0m\n\u001b[0;32m    326\u001b[0m         \u001b[1;32mif\u001b[0m \u001b[0mself\u001b[0m\u001b[1;33m.\u001b[0m\u001b[0mn_splits\u001b[0m \u001b[1;33m>\u001b[0m \u001b[0mn_samples\u001b[0m\u001b[1;33m:\u001b[0m\u001b[1;33m\u001b[0m\u001b[1;33m\u001b[0m\u001b[0m\n",
            "\u001b[1;32m~\\AppData\\Local\\Programs\\Python\\Python39\\lib\\site-packages\\sklearn\\utils\\validation.py\u001b[0m in \u001b[0;36mindexable\u001b[1;34m(*iterables)\u001b[0m\n\u001b[0;32m    297\u001b[0m     \"\"\"\n\u001b[0;32m    298\u001b[0m     \u001b[0mresult\u001b[0m \u001b[1;33m=\u001b[0m \u001b[1;33m[\u001b[0m\u001b[0m_make_indexable\u001b[0m\u001b[1;33m(\u001b[0m\u001b[0mX\u001b[0m\u001b[1;33m)\u001b[0m \u001b[1;32mfor\u001b[0m \u001b[0mX\u001b[0m \u001b[1;32min\u001b[0m \u001b[0miterables\u001b[0m\u001b[1;33m]\u001b[0m\u001b[1;33m\u001b[0m\u001b[1;33m\u001b[0m\u001b[0m\n\u001b[1;32m--> 299\u001b[1;33m     \u001b[0mcheck_consistent_length\u001b[0m\u001b[1;33m(\u001b[0m\u001b[1;33m*\u001b[0m\u001b[0mresult\u001b[0m\u001b[1;33m)\u001b[0m\u001b[1;33m\u001b[0m\u001b[1;33m\u001b[0m\u001b[0m\n\u001b[0m\u001b[0;32m    300\u001b[0m     \u001b[1;32mreturn\u001b[0m \u001b[0mresult\u001b[0m\u001b[1;33m\u001b[0m\u001b[1;33m\u001b[0m\u001b[0m\n\u001b[0;32m    301\u001b[0m \u001b[1;33m\u001b[0m\u001b[0m\n",
            "\u001b[1;32m~\\AppData\\Local\\Programs\\Python\\Python39\\lib\\site-packages\\sklearn\\utils\\validation.py\u001b[0m in \u001b[0;36mcheck_consistent_length\u001b[1;34m(*arrays)\u001b[0m\n\u001b[0;32m    260\u001b[0m     \u001b[0muniques\u001b[0m \u001b[1;33m=\u001b[0m \u001b[0mnp\u001b[0m\u001b[1;33m.\u001b[0m\u001b[0munique\u001b[0m\u001b[1;33m(\u001b[0m\u001b[0mlengths\u001b[0m\u001b[1;33m)\u001b[0m\u001b[1;33m\u001b[0m\u001b[1;33m\u001b[0m\u001b[0m\n\u001b[0;32m    261\u001b[0m     \u001b[1;32mif\u001b[0m \u001b[0mlen\u001b[0m\u001b[1;33m(\u001b[0m\u001b[0muniques\u001b[0m\u001b[1;33m)\u001b[0m \u001b[1;33m>\u001b[0m \u001b[1;36m1\u001b[0m\u001b[1;33m:\u001b[0m\u001b[1;33m\u001b[0m\u001b[1;33m\u001b[0m\u001b[0m\n\u001b[1;32m--> 262\u001b[1;33m         raise ValueError(\"Found input variables with inconsistent numbers of\"\n\u001b[0m\u001b[0;32m    263\u001b[0m                          \" samples: %r\" % [int(l) for l in lengths])\n\u001b[0;32m    264\u001b[0m \u001b[1;33m\u001b[0m\u001b[0m\n",
            "\u001b[1;31mValueError\u001b[0m: Found input variables with inconsistent numbers of samples: [1, 3783]"
          ]
        }
      ],
      "source": [
        "#find accuracy and f1 score from stratified k-fold validation\n",
        "print(features.shape)\n",
        "print(labels.shape)\n",
        "\n",
        "for train_index, test_index in skf.split(features, labels):\n",
        "    x_train_fold, x_test_fold = features_scaled[train_index], features_scaled[test_index]\n",
        "    y_train_fold, y_test_fold = labels[train_index], labels[test_index]\n",
        "    lr_clf.fit(x_train_fold, y_train_fold)\n",
        "    lst_accu_stratified.append(lr.score(x_test_fold, y_test_fold))\n",
        "    lst_f1_stratified.append(f1_score(y_test_fold, lr.predict(x_test_fold), average='weighted'))\n",
        "   \n",
        "# Print the output.\n",
        "print('List of possible accuracy:', lst_accu_stratified)\n",
        "print('\\nMaximum Accuracy That can be obtained from this model is:',\n",
        "      max(lst_accu_stratified)*100, '%')\n",
        "print('\\nMinimum Accuracy:',\n",
        "      min(lst_accu_stratified)*100, '%')\n",
        "print('\\nOverall Accuracy:',\n",
        "      mean(lst_accu_stratified)*100, '%')\n",
        "print('\\nStandard Deviation is:', stdev(lst_accu_stratified))\n",
        "\n",
        "print('List of possible f1 scores:', lst_f1_stratified)\n",
        "print('\\nMaximum f1 score That can be obtained from this model is:',\n",
        "      max(lst_f1_stratified)*100, '%')\n",
        "print('\\nMinimum f1 score:',\n",
        "      min(lst_f1_stratified)*100, '%')\n",
        "print('\\nOverall f1 score:',\n",
        "      mean(lst_f1_stratified)*100, '%')\n",
        "print('\\nStandard Deviation is:', stdev(lst_f1_stratified))"
      ]
    },
    {
      "cell_type": "code",
      "execution_count": 36,
      "metadata": {},
      "outputs": [
        {
          "name": "stdout",
          "output_type": "stream",
          "text": [
            "best parameters:  {'C': 10, 'gamma': 'scale', 'kernel': 'rbf'}\n",
            "best scrores:  0.7835711801674243\n"
          ]
        }
      ],
      "source": [
        "#grid search for best SVC\n",
        "from sklearn.svm import SVC\n",
        "parameters = {'C': np.linspace(0.0001, 100, 20), 'kernel': ['poly', 'rbf', 'sigmoid'], 'gamma': ['scale']}\n",
        "grid_search = GridSearchCV(svm.SVC(), parameters)\n",
        "grid_search.fit(train_features, train_labels)\n",
        "\n",
        "\n",
        "\n",
        "print('best parameters: ', grid_search.best_params_)\n",
        "print('best scrores: ', grid_search.best_score_)"
      ]
    },
    {
      "cell_type": "code",
      "execution_count": 22,
      "metadata": {},
      "outputs": [
        {
          "name": "stdout",
          "output_type": "stream",
          "text": [
            "              precision    recall  f1-score   support\n",
            "\n",
            "        fact       0.57      0.52      0.54       196\n",
            "      policy       0.88      0.85      0.86       204\n",
            "       value       0.80      0.84      0.82       546\n",
            "\n",
            "    accuracy                           0.77       946\n",
            "   macro avg       0.75      0.73      0.74       946\n",
            "weighted avg       0.77      0.77      0.77       946\n",
            "\n"
          ]
        }
      ],
      "source": [
        "#SVC score\n",
        "svc_clf = svm.SVC(C= 10, gamma= 'scale', kernel= 'rbf')\n",
        "svc_clf.fit(train_features, train_labels)\n",
        "\n",
        "svc_predicted = svc_clf.predict(test_features)\n",
        "from sklearn.metrics import classification_report\n",
        "print(classification_report(test_labels, svc_predicted))"
      ]
    },
    {
      "cell_type": "code",
      "execution_count": 20,
      "metadata": {
        "colab": {
          "base_uri": "https://localhost:8080/"
        },
        "id": "vjcgrDHRY3s9",
        "outputId": "f8af7e42-d970-40d7-caeb-30c8589d9329"
      },
      "outputs": [
        {
          "name": "stdout",
          "output_type": "stream",
          "text": [
            "best parameters:  {'C': 5.263252631578947}\n",
            "best scrores:  0.7261215440792904\n"
          ]
        }
      ],
      "source": [
        "#linearSVC grid search\n",
        "parameters = {'C': np.linspace(0.0001, 100, 20)}\n",
        "grid_search = GridSearchCV(svm.LinearSVC(), parameters)\n",
        "grid_search.fit(train_features, train_labels)\n",
        "\n",
        "print('best parameters: ', grid_search.best_params_)\n",
        "print('best scrores: ', grid_search.best_score_)\n",
        "\n"
      ]
    },
    {
      "cell_type": "code",
      "execution_count": 18,
      "metadata": {
        "id": "4OMee6-NtFC1"
      },
      "outputs": [
        {
          "name": "stdout",
          "output_type": "stream",
          "text": [
            "              precision    recall  f1-score   support\n",
            "\n",
            "        fact       0.63      0.57      0.60       196\n",
            "      policy       0.88      0.83      0.86       204\n",
            "       value       0.80      0.85      0.82       546\n",
            "\n",
            "    accuracy                           0.79       946\n",
            "   macro avg       0.77      0.75      0.76       946\n",
            "weighted avg       0.78      0.79      0.78       946\n",
            "\n"
          ]
        }
      ],
      "source": [
        "#linear SVC score\n",
        "svc_clf = svm.SVC(C= 15.789557894736841)\n",
        "svc_clf.fit(train_features, train_labels)\n",
        "\n",
        "svc_predicted = svc_clf.predict(test_features)\n",
        "from sklearn.metrics import classification_report\n",
        "print(classification_report(test_labels, svc_predicted))"
      ]
    },
    {
      "cell_type": "code",
      "execution_count": null,
      "metadata": {},
      "outputs": [],
      "source": [
        "#print classification report from stratified k-fold validation\n",
        "lr_predicted = lr.predict(test_features)\n",
        "print(classification_report(test_labels, lr_predicted))"
      ]
    },
    {
      "cell_type": "code",
      "execution_count": 38,
      "metadata": {
        "colab": {
          "base_uri": "https://localhost:8080/"
        },
        "id": "AJGhJFl3cORj",
        "outputId": "320e132a-f170-42d9-e6e9-73da366ddcef"
      },
      "outputs": [
        {
          "name": "stdout",
          "output_type": "stream",
          "text": [
            "best parameters:  {'C': 5.263252631578947, 'multi_class': 'multinomial', 'penalty': 'l1', 'solver': 'saga'}\n",
            "best scrores:  0.7680608341406463\n"
          ]
        }
      ],
      "source": [
        "#Logistic regression grid search\n",
        "parameters = {'C': np.linspace(0.0001, 100, 20), \"multi_class\": ['multinomial'], 'solver': ['newton-cg', 'lbfgs', 'sag', 'saga'], 'penalty': ['l1', 'l2', 'elasticnet', 'none']}\n",
        "grid_search = GridSearchCV(LogisticRegression(), parameters)\n",
        "grid_search.fit(train_features, train_labels)\n",
        "\n",
        "print('best parameters: ', grid_search.best_params_)\n",
        "print('best scrores: ', grid_search.best_score_)"
      ]
    },
    {
      "cell_type": "code",
      "execution_count": 20,
      "metadata": {
        "id": "6v7Tqr0atLR8"
      },
      "outputs": [
        {
          "name": "stdout",
          "output_type": "stream",
          "text": [
            "              precision    recall  f1-score   support\n",
            "\n",
            "        fact       0.61      0.55      0.58       196\n",
            "      policy       0.84      0.85      0.85       204\n",
            "       value       0.81      0.83      0.82       546\n",
            "\n",
            "    accuracy                           0.78       946\n",
            "   macro avg       0.75      0.75      0.75       946\n",
            "weighted avg       0.77      0.78      0.78       946\n",
            "\n"
          ]
        }
      ],
      "source": [
        "#Logistic regression score\n",
        "lr_clf = LogisticRegression(C=10.526405263157894, multi_class='multinomial', solver='saga', penalty='l2')\n",
        "lr_clf.fit(train_features, train_labels)\n",
        "\n",
        "\n",
        "lr_predicted = lr_clf.predict(test_features)\n",
        "print(classification_report(test_labels, lr_predicted))"
      ]
    },
    {
      "cell_type": "code",
      "execution_count": 106,
      "metadata": {
        "colab": {
          "base_uri": "https://localhost:8080/"
        },
        "id": "u9Hly0QKVVq_",
        "outputId": "a6c1835e-f7bd-41bd-fb08-8f55a6e048ce"
      },
      "outputs": [
        {
          "data": {
            "text/plain": [
              "0.642706131078224"
            ]
          },
          "execution_count": 106,
          "metadata": {},
          "output_type": "execute_result"
        }
      ],
      "source": [
        "#naive bayes score\n",
        "nb_clf = GaussianNB()\n",
        "nb_clf.fit(train_features, train_labels)\n",
        "nb_predicted = nb_clf.predict(test_features)\n",
        "nb_clf.score(test_features, test_labels)"
      ]
    },
    {
      "cell_type": "code",
      "execution_count": 108,
      "metadata": {
        "colab": {
          "base_uri": "https://localhost:8080/"
        },
        "id": "x-zu6NMdkl_l",
        "outputId": "c2037fd3-c045-40c4-d1f7-8877738a970f"
      },
      "outputs": [
        {
          "name": "stdout",
          "output_type": "stream",
          "text": [
            "Naive Bayes Score:\n",
            "              precision    recall  f1-score   support\n",
            "\n",
            "        fact       0.46      0.51      0.48       196\n",
            "      policy       0.60      0.63      0.62       204\n",
            "       value       0.74      0.69      0.72       546\n",
            "\n",
            "    accuracy                           0.64       946\n",
            "   macro avg       0.60      0.61      0.60       946\n",
            "weighted avg       0.65      0.64      0.65       946\n",
            "\n",
            "Logistic regression Score:\n",
            "              precision    recall  f1-score   support\n",
            "\n",
            "        fact       0.61      0.53      0.56       196\n",
            "      policy       0.84      0.80      0.82       204\n",
            "       value       0.80      0.85      0.82       546\n",
            "\n",
            "    accuracy                           0.77       946\n",
            "   macro avg       0.75      0.73      0.74       946\n",
            "weighted avg       0.77      0.77      0.77       946\n",
            "\n",
            "LinearSVC Score:\n",
            "              precision    recall  f1-score   support\n",
            "\n",
            "        fact       0.69      0.47      0.56       196\n",
            "      policy       0.90      0.77      0.83       204\n",
            "       value       0.78      0.90      0.84       546\n",
            "\n",
            "    accuracy                           0.79       946\n",
            "   macro avg       0.79      0.72      0.74       946\n",
            "weighted avg       0.79      0.79      0.78       946\n",
            "\n"
          ]
        }
      ],
      "source": [
        "#print classification report for all models\n",
        "from sklearn.metrics import classification_report\n",
        "\n",
        "print(\"Naive Bayes Score:\")\n",
        "print(classification_report(test_labels, nb_predicted))\n",
        "print(\"Logistic regression Score:\")\n",
        "print(classification_report(test_labels, lr_predicted))\n",
        "print(\"LinearSVC Score:\")\n",
        "print(classification_report(test_labels, svc_predicted))\n"
      ]
    },
    {
      "cell_type": "code",
      "execution_count": 44,
      "metadata": {},
      "outputs": [],
      "source": [
        "domainTestdf = pd.read_csv(\"DomainSpecTest.csv\", delimiter=',', header=None)\n",
        "\n",
        "#tokenize words into values in dataframe for BERT\n",
        "tokenized = domainTestdf[0].apply((lambda x: tokenizer.encode(x, add_special_tokens=True)))\n",
        "\n",
        "#pad each line in dataframe to a uniform length\n",
        "max_len = 0\n",
        "for i in tokenized.values:\n",
        "  if len(i) > max_len:\n",
        "    max_len = len(i)\n",
        "padded = np.array([i + [0]*(max_len-len(i)) for i in tokenized.values])\n",
        "\n",
        "#create attention mask of the same shape as padded dataframe\n",
        "attention_mask = np.where(padded != 0, 1, 0)\n",
        "attention_mask.shape\n",
        "\n",
        "#run data through BERT model\n",
        "input_ids = torch.LongTensor(padded)\n",
        "attention_mask = torch.tensor(attention_mask)\n",
        "\n",
        "with torch.no_grad():\n",
        "  last_hidden_states = model(input_ids, attention_mask=attention_mask)\n",
        "\n",
        "#create list of processed statements\n",
        "dom_spec_features = last_hidden_states[0][:,0,:].numpy()\n",
        "dom_spec_labels = domainTestdf[1]"
      ]
    },
    {
      "cell_type": "code",
      "execution_count": 47,
      "metadata": {},
      "outputs": [
        {
          "name": "stdout",
          "output_type": "stream",
          "text": [
            "              precision    recall  f1-score   support\n",
            "\n",
            "        fact       0.84      0.42      0.56        64\n",
            "      policy       0.90      0.99      0.94        87\n",
            "       value       0.39      0.65      0.48        34\n",
            "\n",
            "    accuracy                           0.73       185\n",
            "   macro avg       0.71      0.69      0.66       185\n",
            "weighted avg       0.78      0.73      0.73       185\n",
            "\n"
          ]
        }
      ],
      "source": [
        "dom_spec_predicted = lr_clf.predict(dom_spec_features)\n",
        "print(classification_report(dom_spec_labels, dom_spec_predicted))"
      ]
    },
    {
      "cell_type": "code",
      "execution_count": 59,
      "metadata": {},
      "outputs": [
        {
          "data": {
            "text/plain": [
              "array([[110,   2,  84],\n",
              "       [  3, 169,  32],\n",
              "       [ 56,  14, 476]], dtype=int64)"
            ]
          },
          "execution_count": 59,
          "metadata": {},
          "output_type": "execute_result"
        }
      ],
      "source": [
        "#print confusion report\n",
        "from sklearn.metrics import confusion_matrix\n",
        "\n",
        "confusion_matrix(test_labels, svc_predicted)"
      ]
    },
    {
      "cell_type": "code",
      "execution_count": 68,
      "metadata": {
        "colab": {
          "base_uri": "https://localhost:8080/"
        },
        "id": "lwTZJk8_JN8C",
        "outputId": "50e6d29d-661e-48b8-bbda-f64401c28a2f"
      },
      "outputs": [
        {
          "name": "stdout",
          "output_type": "stream",
          "text": [
            "Dummy classifier score: 0.577 (+/- 0.00)\n"
          ]
        }
      ],
      "source": [
        "#random guess score\n",
        "from sklearn.dummy import DummyClassifier\n",
        "clf = DummyClassifier()\n",
        "\n",
        "scores = cross_val_score(clf, features, labels)\n",
        "print(\"Dummy classifier score: %0.3f (+/- %0.2f)\" % (scores.mean(), scores.std() * 2))"
      ]
    },
    {
      "cell_type": "code",
      "execution_count": 120,
      "metadata": {},
      "outputs": [
        {
          "name": "stdout",
          "output_type": "stream",
          "text": [
            "--- 0.7481307983398438 seconds ---\n"
          ]
        }
      ],
      "source": [
        "import time\n",
        "time_test = \"This is a test to show how long it takes to process a sentence\"\n",
        "start_time = time.time()\n",
        "untokenized_input = pd.DataFrame([\"This is a test to show how long it takes to process a sentence\"], dtype=\"string\")\n",
        "#tokenize words into values in dataframe for BERT\n",
        "tokenized = untokenized_input[0].apply((lambda x: tokenizer.encode(x, add_special_tokens=True)))\n",
        "#pad each line in dataframe to a uniform length\n",
        "max_len = 0\n",
        "for i in tokenized.values:\n",
        "  if len(i) > max_len:\n",
        "    max_len = len(i)\n",
        "padded = np.array([i + [0]*(max_len-len(i)) for i in tokenized.values])\n",
        "attention_mask = np.where(padded != 0, 1, 0)\n",
        "#run data through DistilBERT model\n",
        "input_ids = torch.LongTensor(padded)\n",
        "attention_mask = torch.tensor(attention_mask)\n",
        "\n",
        "with torch.no_grad():\n",
        "  last_hidden_states = model(input_ids, attention_mask=attention_mask)\n",
        "\n",
        "features = last_hidden_states[0][:,0,:].numpy()\n",
        "\n",
        "lr_clf.predict(features)\n",
        "print(\"--- %s seconds ---\" % (time.time() - start_time))"
      ]
    },
    {
      "cell_type": "code",
      "execution_count": 17,
      "metadata": {},
      "outputs": [],
      "source": [
        "import pickle\n",
        "\n",
        "#with open(\"lr_model.sav\", \"wb\") as handle:\n",
        "   # pickle.dump(lr_clf, handle, protocol=pickle.HIGHEST_PROTOCOL)\n",
        "\n",
        "with open(\"SVC_model.sav\", \"wb\") as handle:\n",
        "    pickle.dump(svc_clf, handle, protocol=pickle.HIGHEST_PROTOCOL)"
      ]
    },
    {
      "cell_type": "code",
      "execution_count": 90,
      "metadata": {},
      "outputs": [],
      "source": [
        "untokenized_features = batch_1[0]\n",
        "train_untokenized, test_untokenized, train_labels, test_labels = train_test_split(untokenized_features, labels, random_state = 1, stratify=labels)\n"
      ]
    },
    {
      "cell_type": "code",
      "execution_count": 91,
      "metadata": {
        "tags": [
          "outputPrepend"
        ]
      },
      "outputs": [
        {
          "name": "stdout",
          "output_type": "stream",
          "text": [
            "a debt will improve their score.', 'Larry S, your quote...A plaintiff in a lawsuit cannot be placed in a situation where it is rewarding to sue with insufficient cause and minimal risk\" is a very powerful statement and one that I entirely agree with.\"', 'I mean shes my wife ', 'I agree.', \"Requiring a validation notice from the owner of the debt should be optional on the creditor's part.\", 'Involuntary defaults should allow the debtor to have the debt reset to where it was at the time of the default minus any payments made.', 'even though our own response rate has not been great.', 'Perhaps the CFPB Portal could have a debt resolution aspect to it where a debtor could try to resolve an account in a safer\" more disarming manner.\"', \"I believe the issue is whether a third party debt collector or debt buyer should report an account to a credit reporting agency which would overlap the original lender's last report on the consumer account.\", 'I have seen confusion due to lack of rule clarity.', \"According to the Center for Disease Control's 'Wireless Substitution' latest report (Early release data, July-December 2012), over one third (36%) of adults in the United States live in a household with only wireless telephone service.\", 'Agree to contact the credit card company and have the debt reduced to what it was at the time of default.', 'agencies must still abide by it.', 'because the collection agency takes a percentage', 'even though they legally cannot ', 'Every validation notice should include, not only the name, but the address and phone number of the current owner of the debt.', 'Debt collectors file a large number of default judgments ', 'and I feel that debtors are treated extremely unfairly by debt collection laws.', \"I learned that they won't work with you.\", 'The CFPB should include in any rule confirmation that the same practices prohibited for collectors under the FDCPA would be unfair, deceptive, or abusive acts and practices if done by a creditor.', 'Once a debt has reached the end of its statue of limitations is should be removed from the consumer credit report.', 'There appears to be a double standard between the debtor and collector.', \"They should be required to investigate and respond in writing to a consumer's defense,\", 'So dont hide.', 'and they are paid to keep accurate records.', 'Right now filing complaints with the regulators does absolutely nothing except get you into some database ', 'but for many it is a struggle to get by.', 'This type of behavior must be regulated', 'There is nothing wrong with form letters.', \"I don't think this addition would make that much of a difference.\", \"I know the Court is to remain impartial, but in a small city, everybody knows everybody and sometimes it's hard to see these practices occurring.\", 'If a collector knows a service member passed away, then the spouse, executor, administrator should not be contacted and the account closed law or no law', 'That might work if each state had reasonable, intelligent and realistic collection rules.', 'Having gone through a Chapter 7 bankruptcy I can tell you that debt collector phone calls were the worst part of the bankruptcy experience.', 'We must first examine debt collection from a derivative and forensic viewpoint; corporate finance, federally/state funded institutions and their debt obligations.', 'No, most consumers are not lawyers.', 'because if they were to start telling consumers to a to a certain website, that opens the door for spammers/hackers to increase virus infections by simply doing the same thing.', 'As a creditor, I can agree with this notification on medical services', 'All creditors send out mutiple letters and make numerous phone calls to the consumer to give them a chance to pay their just incurred debt', 'as one will not be provided for them by the state.', 'Knowledge of the debt and money owed would need to have the same level of security afforded to consumer reports and information within a consumer report (as defined in the FCRA).', 'The technology is the same', 'although the dispute letter specifically asked for documentation.', 'So old fashioned.', 'The original debt owner or collection company that purchase the account, should produce the original copy of the signed contract, court documents, and any verifiable records relating to the dispute.', 'Enough is enough.', 'but what about accounts that never had a periodic statement or billing statement?', 'Either no number on the caller ID or a number linked back to the collection agency.', 'This question is most interesting with respect to student loans.', 'By making default judgment more difficult, the CFPB would only be rewarding the debtors who choose to take no action to resolve their complaints.', \"I'm with Massachusetts on this one.\", 'Junk Debt buying should be prohibited all together.', 'My student loan company is giving me a ton of grief about allowing my husband to contact them regarding my student loan debt.', \"How does that help in debt collection? It doesn't.\", \"They can't and they don't care.\", 'over 70% of our economy is based on consumer spending ', \"Adding steep fines for double reporting would incentivize CRA's to police their systems so each debt only garners one entry.\", \"Why can't these collectors do their research on the debtor, before they harrass the parents!!\", 'and that is NOT fair to me.', ' do, however, believe that I have a moral obligation not to do so.', 'Most collectors cite 1692g verbatim to avoid liability for misleading consumers.', \"so they don't keep calling the wrong number.\", 'If you can get a million other delinquent consumers to go in with you on a 10% offer, you could probably get them to take it.', \"It just doesn't seem ethical to punish a consumer \", \"I can't comment on any of this,\", 'I do believe additional documentation as to chain of title be available if a consumer is being sued in Court.', 'It is unwise to require that the debt collector send sensitive personal information to the debtor (e.g., SSN, account number', 'When it comes to auto loans, and other monthly installment loans, I am sure the consumers are aware of the debt and who it is payable to, unless sold.', 'Some problems that debt collectors and buyers have with giving consumers this information arises in the field of Electronic Data Interchange.', 'Currently, Section 806 of the FDCPA makes abuse or harassment of debtors illegal.', 'It amended the Communications Act of 1934.', 'since this was an act of war which is NOT covered by most insurance plans), ', 'so these would need to be considered as well.', 'consumers in my opinion should be required to furnish some sort of support of dispute.', \"And I'll just bet it is worst in the states with the least amount of consumer protection.\", 'as these matters have always been governed appropriately by State law and State judges.', 'Calling repeatedly, threatening, screaming, cursing at children gets collectors absolutely nowhere.', 'They 1) use vague names, no signature, post office boxes, a million aliases for their debt collection business', 'The computers can be programmed to call once a day or a hundred times a day.', 'Their should be a cap on debts owed and the power that the agencies have on consumers.', 'This is unreal.', \"but I didn't at the time.\", \"The issue in the end isn't the mechanics, or if they can request the debt not be reported.\", 'As far as consumer protection, legal aid needs to be made available, affordable and effective,', 'That cost does not include overhead and employee cost.', 'Debt collectors are very knowledgable in what they do.', 'Most people are aware of their obligations, but just cannot pay them now.', 'In my experience with debt collectors, I have reached the conclusion that their are two reasons for repeatedly calling me:', \"Most consumers won't respond to blocked numbers or ID's anyway.\", 'which means a consumer can be sued in Federal Court under supplemental jurisdiction provisions.', 'they certainly are', 'It seems like a no-brainer.', 'The CFPB should require debt sellers to contact the debtor and inform them the debt has been sold.', 'Besides, the lender has already sent several past due statements and a certified letter about the debt.', 'as they have the original debt information, including SSN, phone and financial information.', 'I support the 9am - 8pm hours.', 'I like the Summary of Rights idea.', 'And consumers should get full disclosure on who their debt has been sold\" to.\"', \"that wouldn't be very efficient.\", 'Stop allowing the companies to use hundreds of phone numbers to try to trick someone.', 'Collectors should have a way to make contact with consumers who choose not to have a flat-rate telephone service.', 'That process usually takes as much a 2 years or more.', 'I found this type of conduct outside the lines of common decency.', 'ased on 3rd party disclosure statue blocking the ID benifits the consumer.', 'The most abusive things debt collectors do are with their phones.', 'My experience has been that people younger than I (a boomer) prefer to communicate electronically (emails, texts & chats).', 'Further, the violations cannot be stacked\"\"', 'but I still am not sure.', 'But where is the outside force to come from to make the obvious happen in regards to those three credit card wanrings?', 'Foti\" messages serve no one.\"', \"Just because the original creditor took a loss on it, doesn't change what is really due.\", 'which should go to a physical address and to a person, not just a vague company name.', 'The debt buyer should not be able to sue for 900% of their investment.', 'and that the case should be subject to the laws of that jurisdiction, especially concerning the statute of limitations.', 'As to fine time, I would say 48 hours.', 'I understand that people have significant concerns about their credit reports.', 'Judges should be able to use logic to solve the growing backlog of credit card default cases.', \"And if it is not a law, then isn't it time that debt collection companies carry errors and omissions insurance?\", 'By the time a file reaches litigation, the debtor has already received at least one prior opportunity to resolve the debt with the collector (the initial demand letter, which by law must inform the debtor of his/her right to challenge the veracity of the debt being pursued).', \"Why doesn't the court give access to free legal counsel to debt defaulters the way they do to those who are accused of committing a crime?\", 'For a solution; the laws should be written so the common lay person can understand.', 'The collection agency got all hot and bothered and rude to me', 'so those violating the law 10 times on one debt, will generally only face the maximum of a $1000 penalty.', 'because it seems to me they are in cahoots with each other.', 'To start they should obtain a credit report for starters regardless whether collectors disclose either way.', 'Too often consumers categorize this process as requiring proof\" as taxguy does.\"', 'That is about as generic of a description as one could give, ', 'Rule number 1 strikes the right balance.', 'There are already rules.', 'If Government Consumer Organizations are not willing to acknowledge those who care and show it, the system may never truly improve.', 'But if someone wants the ability to stop someone from conducting any and all robocalls from all phones, and robocalls help creditors recoup their loans, then the creditor should be able to charge a regulated fee for that convenience.', 'They should not have free-to-end-user ', 'Furthermore, the seller of the debt must be required and enforced to annotate the debtors credit report with the sale to help eliminate confusion and in a way to not increase the bad debt.', 'Right now, original creditors offer no significant reduced rate to debtor before selling for 4 cents on the dollar.', 'This kind of thing is likely determined by family court law in the jurisdiction where the debtor lives.', 'I think the author of the above note had some very well reasoned thoughts.', 'the more abusive ones robo call several times a day and hang up when an answering machine picks up).', 'My hope, and my suggestion, is that there could be some way for debtors to make collection agencies aware of the fact that the debtor has a documented medical disability, and that abusive or harassing phone calls have additional health consequences for the debtor.', 'I think the law should be clarified,', 'The debt collector has no authority to correct the mistake,', 'For goodness sake it is 2013!!!', 'this is why it will always remain illegal for debt collectors to call cell phones.', 'Require them to state their name and ID number just like IRS employees do.', 'I understand the need to protect privacy,', 'but the judgment debtor is the real party in interest.', 's FICO (the industry standard) uses proprietary algorithm that the collection agent cannot possibly guess at.', 'The Telephone Consumer Protection Act (TCPA) prohibits creditors from using automated dialing systems to call cell phone numbers without consent from the customer.', 'Otherwise some consumers will game\" the system and make false disputes.\"', '3 months (or whatever an appropriate time limit is) would reduce the constant harassment that I and many other innocent parties receive.', 'If a consumer states that he disputes the debt, the debt collector should immediately cease ALL collection activity until the debt is validated.', 'This letter would only be sent if the creditors intentions are to sell the debt and not just another attempt to collect.\"', 'In addition, since email \"sender ID\" is easier to demand and maintain,', 'A hard pull\" will decrease a consumers credit score and will be visible for up to 25 months to anyone who does have a legitimate permissible purpose to view that consumer\"s credit report\"', 'Furthermore, that these three words need to be separated, clarified and their legal handling completely examined.', \"additionally the name of the consumer's insurance Co./plan on the validation notice would be quite helpful.\", \"I'd like to see a plain language amendment to that section of the FDCPA,\", \"if you don't tell me who you are or what you are calling about, I consider it spam.\", \"A collector's toll-free number is the ideal number to display on Caller ID,\", 'The FTC says \"reasonable\" investigation but these companies do none', 'Instead creditors and debt buyers should be mandated to allow secure document uploading to their own website with official notification that the document has been reviewed.', \"There are currently established credit reporting agencies to monitor the consumer side of this issue and an additional, numerical evaluation score can be added to the consumer's already established credit report.\", 'Consumers are typically notified numerous times before the account is sent to a collection agency.', 'I believe that a third party debt buyer should be limited as to how much they can sue for above their initial investment.', 'and I want to be able to file an errors and omissions claim with both debt collectors insurance company for lying on court documents.', \"If there is a concern for protecting consumers in this particular area, I recommend a section of the rule that prohibits collections from choosing a court venue with the intention of interfering with the consumer's ability to participate in the action.\", 't all depends on the employer and the work conditions surrounding the consumer.', 'The seller of any consumer debt should be required to notify the debtor of which debt owed to which creditor, is being sold by xyz organization to 123 debt collector.', 'Lack of oversight, lack of clear rules and lack of enforcement.', \"People lose their jobs, get laid off, get sick and can't work, retire and try to make it from one month to the next on miniscule retirement benefits.\", 'In 2010, the FTC released a report, \"Repairing A Broken System,\" which made mention of the need a universal statute of limitations.', 'That presumes they actually follow the law and do a validation investigation.', \"because a person out of work isn't likely to pay.\", 'And when there are a change in debt collectors, the consumer should be notified.', 'I want a written trail.', 'ince online is more rushed by the people hired to handle this.', 'because nothing is ever done by way of enforcement and the collectors know this.', 'After complete due process has been exhausted, the record should be completely removed from the consumer file.', \"And I don't see why I should pay for the call.\", 'but I have noticed that credit card agreements often contain statements advising consumers that if suit is brought, it will occur in a specified jurisdiction or as provided for by law.\"\"', 'Then some debt buyer buys a portfolio of un-performing debt and pays a dime on a dollar for it.', 'They use various numbers', 'Once the fear of being sued is removed, the chances of a collector to collect is very minute.', 'The business or entity was provided contact information by the consumer that it will use to collect or pass along to a collection agency to use to collect.', 'Some act as loan sharks and not collection agencies.', 'You need to create fines and actually impose them.', 'so they should not call my cell and cost me more money that will prolong them getting paid.', 'but their predatory practices need to be regulated.', 'It has also made me paranoid about my own finances.', 'why use euphemisms.', \"It's the ones that are trying to scam consumers that give as little detail as possible in hope that someone panics and fills in the blanks for them.\", 'Assign the debt to one collector who would then take full responsibility for making all contacts with the alleged debtor.', 'The problem is enforcement.', 'I think your idea is an excellent one.', 'The principle behind any rules promulgated by the CFPB must ensure that no alleged debtor get bullied into paying up or blind-sided by the court into doing so.', 'Absent a means for consumers to identify an account there is no way for them to verify that they have previously paid that debt.', 'debt collectors are not fiduciaries', 'They have violated our privacy and the right to peaceful enjoyment of our home one too many times.', 'Too many collectors call and never report the mini-Miranda warning\".\"', \"What this does is free the debtor's phone lines so they can completely focus on moving forward rather than engage in pointless rat a tat with repetitive debt collection callers.\", 'If the debt collector cannot produce this evidence, he should be barred from reselling the debt or reporting it to the CRAs.', 'Multiply that cost by the number of notices and statements already sent (and ignored) and you begin to see the true cost of collection.', 'It would be okay if the consumer wants more & more communications if the creditor or agency can bill the consumer for the postage.', \"But let's not let the perfect be the enemy of the good.\", 'If other debts related to the same visit have been paid, the letter should say so, e.g., \"You already paid for other services during this visit, but you still owe...\" Or, \"Your insurance paid for some of the costs of this visit, but you still owe....\"', 'Additionally, there should be some form of penalty for collectors who engage in this demeaning and useless practice.', 'I know it is them ', 'but I do not see any information requiring details on the content of Robo-Calls. ', 'State and local court rules sometimes make default judgments much more likely.', 'If the CFPB truly is about protecting the interests of the consumer, then the debt collection process needs to be simplified drastically in regard to collection items (medical, utilities, etc.).', \"Probably won't find any legislation\", 'because the companies making these calls are usually the same scofflaws who have been sued repeatedly for trying to collect nonexistent debts.', 'Bayview may be a debt collector,']\n"
          ]
        }
      ],
      "source": [
        "list_of_statements = []\n",
        "for statement in enumerate(test_untokenized):\n",
        "    list_of_statements.append(statement[1])\n",
        "print(list_of_statements)"
      ]
    },
    {
      "cell_type": "code",
      "execution_count": 92,
      "metadata": {},
      "outputs": [
        {
          "name": "stdout",
          "output_type": "stream",
          "text": [
            "['value', 'value', 'value', 'value', 'policy', 'value', 'value', 'policy', 'value', 'value', 'fact', 'value', 'value', 'policy', 'value', 'value', 'value', 'value', 'value', 'fact', 'policy', 'value', 'fact', 'value', 'value', 'value', 'fact', 'fact', 'fact', 'value', 'policy', 'value', 'policy', 'policy', 'value', 'value', 'policy', 'fact', 'value', 'value', 'fact', 'fact', 'value', 'value', 'value', 'policy', 'value', 'fact', 'value', 'value', 'value', 'value', 'fact', 'policy', 'value', 'policy', 'value', 'value', 'value', 'fact', 'value', 'value', 'value', 'policy', 'value', 'value', 'fact', 'value', 'value', 'value', 'policy', 'fact', 'value', 'value', 'value', 'value', 'fact', 'value', 'value', 'policy', 'value', 'value', 'value', 'fact', 'value', 'policy', 'value', 'value', 'fact', 'value', 'fact', 'fact', 'policy', 'value', 'value', 'policy', 'fact', 'policy', 'value', 'value', 'policy', 'value', 'policy', 'value', 'value', 'value', 'value', 'policy', 'value', 'fact', 'fact', 'value', 'value', 'value', 'fact', 'policy', 'value', 'value', 'value', 'value', 'fact', 'policy', 'value', 'policy', 'value', 'value', 'fact', 'fact', 'value', 'value', 'value', 'policy', 'value', 'value', 'value', 'fact', 'policy', 'policy', 'value', 'value', 'fact', 'value', 'value', 'policy', 'value', 'fact', 'fact', 'value', 'fact', 'policy', 'value', 'policy', 'policy', 'value', 'value', 'value', 'fact', 'policy', 'value', 'fact', 'fact', 'fact', 'policy', 'fact', 'value', 'value', 'value', 'value', 'value', 'policy', 'value', 'fact', 'value', 'value', 'value', 'value', 'value', 'value', 'value', 'fact', 'value', 'value', 'value', 'policy', 'value', 'fact', 'fact', 'value', 'value', 'fact', 'value', 'fact', 'value', 'policy', 'fact', 'fact', 'fact', 'policy', 'fact', 'value', 'value', 'value', 'value', 'policy', 'value', 'value', 'fact', 'policy', 'value', 'value', 'value', 'value', 'value', 'policy', 'value', 'value', 'policy', 'value', 'value', 'value', 'policy', 'value', 'value', 'value', 'value', 'fact', 'value', 'fact', 'value', 'value', 'fact', 'policy', 'fact', 'value', 'policy', 'value', 'value', 'policy', 'value', 'fact', 'policy', 'value', 'policy', 'value', 'policy', 'policy', 'value', 'fact', 'value', 'value', 'fact', 'value', 'value', 'policy', 'policy', 'value', 'fact', 'value', 'policy', 'value', 'policy', 'policy', 'value', 'value', 'value', 'value', 'policy', 'value', 'value', 'value', 'value', 'value', 'value', 'value', 'policy', 'value', 'value', 'fact', 'policy', 'value', 'fact', 'value', 'value', 'fact', 'value', 'value', 'fact', 'value', 'value', 'value', 'policy', 'policy', 'value', 'value', 'policy', 'value', 'value', 'policy', 'policy', 'value', 'value', 'value', 'value', 'fact', 'value', 'fact', 'value', 'value', 'fact', 'value', 'policy', 'value', 'value', 'policy', 'policy', 'policy', 'fact', 'policy', 'policy', 'fact', 'fact', 'policy', 'value', 'value', 'value', 'value', 'fact', 'policy', 'value', 'value', 'value', 'value', 'value', 'policy', 'fact', 'fact', 'policy', 'value', 'value', 'fact', 'value', 'value', 'value', 'policy', 'fact', 'policy', 'fact', 'value', 'policy', 'fact', 'value', 'policy', 'policy', 'value', 'value', 'fact', 'policy', 'value', 'value', 'fact', 'fact', 'value', 'policy', 'value', 'value', 'fact', 'value', 'value', 'value', 'value', 'fact', 'fact', 'value', 'value', 'value', 'policy', 'fact', 'value', 'fact', 'policy', 'fact', 'value', 'value', 'value', 'fact', 'value', 'value', 'value', 'value', 'value', 'value', 'value', 'value', 'value', 'value', 'value', 'policy', 'value', 'value', 'policy', 'value', 'policy', 'value', 'value', 'value', 'value', 'fact', 'value', 'policy', 'value', 'value', 'fact', 'policy', 'value', 'value', 'fact', 'fact', 'fact', 'value', 'value', 'value', 'value', 'value', 'policy', 'fact', 'value', 'policy', 'fact', 'value', 'policy', 'policy', 'value', 'fact', 'value', 'policy', 'fact', 'policy', 'value', 'value', 'value', 'value', 'value', 'value', 'value', 'value', 'value', 'value', 'value', 'value', 'policy', 'fact', 'policy', 'fact', 'value', 'fact', 'fact', 'policy', 'value', 'value', 'policy', 'value', 'value', 'value', 'value', 'value', 'value', 'policy', 'value', 'value', 'policy', 'policy', 'value', 'value', 'policy', 'value', 'value', 'value', 'fact', 'value', 'value', 'value', 'value', 'fact', 'value', 'value', 'value', 'fact', 'value', 'value', 'value', 'policy', 'fact', 'policy', 'fact', 'value', 'value', 'value', 'policy', 'policy', 'policy', 'value', 'value', 'policy', 'policy', 'value', 'policy', 'policy', 'fact', 'value', 'fact', 'value', 'value', 'fact', 'value', 'value', 'policy', 'fact', 'value', 'value', 'value', 'value', 'value', 'value', 'policy', 'value', 'value', 'value', 'value', 'value', 'value', 'value', 'policy', 'policy', 'value', 'policy', 'policy', 'value', 'value', 'value', 'value', 'value', 'policy', 'value', 'value', 'value', 'value', 'value', 'value', 'policy', 'value', 'policy', 'value', 'fact', 'fact', 'value', 'value', 'policy', 'value', 'fact', 'value', 'value', 'value', 'fact', 'value', 'policy', 'policy', 'value', 'value', 'value', 'fact', 'value', 'value', 'value', 'value', 'value', 'policy', 'value', 'value', 'fact', 'policy', 'value', 'value', 'value', 'value', 'value', 'policy', 'value', 'value', 'value', 'fact', 'fact', 'fact', 'value', 'value', 'policy', 'value', 'policy', 'policy', 'value', 'fact', 'value', 'policy', 'value', 'value', 'value', 'fact', 'value', 'value', 'value', 'value', 'policy', 'policy', 'value', 'value', 'value', 'value', 'value', 'value', 'fact', 'policy', 'value', 'value', 'value', 'policy', 'value', 'value', 'value', 'value', 'fact', 'value', 'value', 'fact', 'value', 'value', 'value', 'value', 'value', 'fact', 'value', 'policy', 'fact', 'value', 'fact', 'value', 'fact', 'fact', 'policy', 'policy', 'value', 'value', 'policy', 'fact', 'fact', 'fact', 'value', 'value', 'value', 'value', 'fact', 'value', 'fact', 'value', 'fact', 'policy', 'policy', 'value', 'fact', 'policy', 'value', 'fact', 'fact', 'value', 'value', 'value', 'value', 'policy', 'fact', 'value', 'policy', 'value', 'value', 'fact', 'value', 'value', 'value', 'value', 'value', 'value', 'policy', 'fact', 'policy', 'fact', 'policy', 'fact', 'value', 'value', 'value', 'fact', 'fact', 'policy', 'policy', 'fact', 'fact', 'value', 'value', 'value', 'value', 'value', 'value', 'policy', 'fact', 'value', 'fact', 'value', 'value', 'value', 'value', 'value', 'value', 'value', 'policy', 'policy', 'policy', 'fact', 'value', 'fact', 'value', 'value', 'value', 'fact', 'value', 'value', 'fact', 'policy', 'value', 'value', 'fact', 'value', 'policy', 'policy', 'value', 'value', 'value', 'value', 'fact', 'policy', 'fact', 'fact', 'fact', 'policy', 'fact', 'value', 'value', 'policy', 'policy', 'value', 'policy', 'policy', 'fact', 'fact', 'fact', 'policy', 'value', 'value', 'value', 'policy', 'value', 'value', 'policy', 'fact', 'value', 'value', 'fact', 'fact', 'policy', 'value', 'fact', 'value', 'policy', 'value', 'value', 'policy', 'value', 'value', 'value', 'policy', 'value', 'value', 'value', 'fact', 'value', 'value', 'value', 'value', 'fact', 'fact', 'value', 'value', 'value', 'value', 'value', 'value', 'value', 'fact', 'fact', 'fact', 'value', 'policy', 'value', 'value', 'value', 'value', 'fact', 'policy', 'value', 'value', 'value', 'policy', 'fact', 'value', 'fact', 'value', 'value', 'fact', 'value', 'value', 'policy', 'fact', 'fact', 'value', 'value', 'policy', 'value', 'policy', 'policy', 'fact', 'value', 'value', 'value', 'value', 'fact', 'value', 'value', 'value', 'fact', 'policy', 'policy', 'policy', 'value', 'value', 'value', 'value', 'fact', 'policy', 'policy', 'value', 'value', 'value', 'policy', 'value', 'value', 'value', 'fact', 'value', 'policy', 'policy', 'policy', 'fact', 'value', 'value', 'fact', 'value', 'policy', 'value', 'fact', 'value', 'policy', 'value', 'value', 'fact', 'fact', 'value', 'value', 'policy', 'policy', 'value', 'fact', 'policy', 'value', 'policy', 'value', 'value', 'value', 'policy', 'fact', 'fact', 'policy', 'value', 'policy', 'value', 'policy', 'value', 'fact', 'fact', 'value', 'value', 'policy', 'value', 'value', 'fact', 'policy', 'value', 'fact', 'fact', 'fact', 'value', 'fact', 'value', 'policy', 'policy', 'policy', 'value', 'value', 'value', 'policy', 'value', 'value', 'policy', 'fact', 'fact', 'value', 'value', 'value', 'policy', 'value', 'value', 'policy', 'policy', 'policy', 'value', 'value', 'value', 'policy', 'value', 'fact', 'fact']\n"
          ]
        }
      ],
      "source": [
        "list_of_true_labels = []\n",
        "for label in enumerate(test_labels):\n",
        "    list_of_true_labels.append(label[1])\n",
        "print(list_of_true_labels)"
      ]
    },
    {
      "cell_type": "code",
      "execution_count": 93,
      "metadata": {},
      "outputs": [
        {
          "name": "stdout",
          "output_type": "stream",
          "text": [
            "['value', 'value', 'value', 'value', 'policy', 'value', 'value', 'policy', 'value', 'value', 'fact', 'value', 'value', 'policy', 'value', 'value', 'value', 'value', 'value', 'value', 'policy', 'value', 'fact', 'value', 'fact', 'value', 'fact', 'fact', 'value', 'value', 'policy', 'fact', 'policy', 'policy', 'value', 'value', 'policy', 'fact', 'policy', 'value', 'fact', 'fact', 'value', 'fact', 'fact', 'policy', 'fact', 'value', 'value', 'value', 'value', 'value', 'fact', 'policy', 'value', 'policy', 'value', 'value', 'value', 'fact', 'fact', 'fact', 'value', 'value', 'policy', 'value', 'fact', 'value', 'value', 'value', 'policy', 'fact', 'value', 'fact', 'fact', 'value', 'fact', 'value', 'value', 'policy', 'value', 'value', 'value', 'value', 'value', 'policy', 'value', 'value', 'fact', 'fact', 'fact', 'fact', 'policy', 'value', 'value', 'policy', 'fact', 'policy', 'value', 'value', 'policy', 'value', 'policy', 'value', 'value', 'value', 'value', 'value', 'fact', 'fact', 'value', 'policy', 'value', 'value', 'fact', 'policy', 'value', 'fact', 'value', 'value', 'fact', 'policy', 'value', 'policy', 'fact', 'value', 'value', 'fact', 'value', 'value', 'value', 'policy', 'value', 'value', 'value', 'value', 'policy', 'policy', 'fact', 'value', 'value', 'value', 'value', 'policy', 'value', 'fact', 'value', 'value', 'fact', 'fact', 'value', 'policy', 'value', 'value', 'value', 'value', 'fact', 'policy', 'policy', 'fact', 'fact', 'fact', 'policy', 'fact', 'value', 'value', 'value', 'value', 'value', 'policy', 'value', 'fact', 'fact', 'value', 'value', 'value', 'value', 'value', 'fact', 'value', 'value', 'value', 'value', 'value', 'value', 'value', 'value', 'value', 'value', 'fact', 'value', 'value', 'value', 'policy', 'fact', 'fact', 'value', 'policy', 'policy', 'value', 'value', 'value', 'value', 'policy', 'value', 'value', 'value', 'policy', 'value', 'value', 'value', 'value', 'policy', 'policy', 'value', 'value', 'policy', 'value', 'policy', 'value', 'policy', 'value', 'value', 'value', 'value', 'fact', 'value', 'fact', 'value', 'value', 'value', 'policy', 'fact', 'fact', 'policy', 'value', 'value', 'policy', 'value', 'fact', 'policy', 'value', 'policy', 'fact', 'value', 'policy', 'value', 'value', 'value', 'value', 'fact', 'value', 'value', 'policy', 'policy', 'value', 'value', 'fact', 'policy', 'value', 'policy', 'policy', 'value', 'fact', 'value', 'value', 'value', 'value', 'value', 'value', 'value', 'value', 'value', 'value', 'policy', 'value', 'value', 'value', 'policy', 'value', 'value', 'value', 'value', 'policy', 'value', 'value', 'value', 'value', 'value', 'value', 'policy', 'value', 'value', 'value', 'policy', 'fact', 'value', 'policy', 'policy', 'value', 'value', 'value', 'value', 'fact', 'value', 'value', 'value', 'value', 'value', 'value', 'value', 'value', 'value', 'policy', 'value', 'policy', 'fact', 'value', 'policy', 'value', 'fact', 'policy', 'value', 'value', 'value', 'value', 'value', 'policy', 'value', 'value', 'value', 'value', 'value', 'policy', 'fact', 'value', 'value', 'fact', 'value', 'value', 'value', 'value', 'fact', 'value', 'fact', 'policy', 'fact', 'value', 'policy', 'fact', 'value', 'policy', 'value', 'value', 'value', 'value', 'value', 'fact', 'policy', 'value', 'value', 'value', 'policy', 'fact', 'value', 'fact', 'value', 'fact', 'value', 'value', 'fact', 'value', 'value', 'value', 'value', 'policy', 'value', 'value', 'value', 'policy', 'value', 'value', 'value', 'value', 'fact', 'fact', 'value', 'value', 'value', 'value', 'value', 'value', 'value', 'value', 'value', 'value', 'policy', 'value', 'value', 'value', 'fact', 'policy', 'value', 'fact', 'value', 'value', 'value', 'value', 'policy', 'value', 'value', 'value', 'policy', 'policy', 'value', 'value', 'fact', 'fact', 'value', 'value', 'value', 'value', 'value', 'policy', 'fact', 'value', 'policy', 'fact', 'value', 'policy', 'value', 'value', 'fact', 'value', 'policy', 'fact', 'policy', 'value', 'value', 'value', 'value', 'value', 'value', 'value', 'value', 'value', 'value', 'value', 'value', 'policy', 'value', 'policy', 'value', 'value', 'fact', 'fact', 'policy', 'value', 'value', 'value', 'value', 'value', 'value', 'fact', 'value', 'value', 'policy', 'value', 'value', 'value', 'policy', 'fact', 'value', 'policy', 'value', 'value', 'value', 'fact', 'value', 'value', 'value', 'value', 'value', 'value', 'value', 'value', 'value', 'value', 'value', 'value', 'policy', 'fact', 'policy', 'fact', 'value', 'value', 'value', 'policy', 'policy', 'policy', 'policy', 'value', 'policy', 'policy', 'value', 'policy', 'policy', 'value', 'value', 'fact', 'value', 'value', 'fact', 'value', 'value', 'policy', 'value', 'value', 'value', 'value', 'value', 'value', 'value', 'value', 'value', 'value', 'value', 'value', 'fact', 'value', 'value', 'policy', 'policy', 'value', 'policy', 'policy', 'value', 'value', 'value', 'value', 'value', 'policy', 'fact', 'value', 'value', 'value', 'fact', 'value', 'value', 'value', 'policy', 'value', 'fact', 'value', 'value', 'value', 'policy', 'value', 'fact', 'value', 'value', 'value', 'value', 'value', 'policy', 'policy', 'fact', 'value', 'value', 'fact', 'value', 'value', 'value', 'value', 'value', 'policy', 'fact', 'value', 'value', 'value', 'fact', 'value', 'value', 'value', 'value', 'policy', 'fact', 'value', 'value', 'fact', 'value', 'value', 'value', 'value', 'policy', 'value', 'policy', 'policy', 'value', 'fact', 'value', 'policy', 'value', 'value', 'fact', 'value', 'value', 'value', 'policy', 'value', 'value', 'policy', 'value', 'value', 'fact', 'value', 'value', 'value', 'fact', 'policy', 'value', 'value', 'value', 'value', 'fact', 'value', 'value', 'value', 'value', 'value', 'value', 'value', 'value', 'value', 'value', 'fact', 'fact', 'fact', 'value', 'policy', 'value', 'value', 'fact', 'value', 'fact', 'fact', 'value', 'policy', 'value', 'value', 'policy', 'fact', 'value', 'fact', 'value', 'value', 'value', 'value', 'value', 'value', 'value', 'value', 'value', 'policy', 'policy', 'value', 'value', 'policy', 'value', 'value', 'fact', 'value', 'value', 'value', 'value', 'policy', 'fact', 'value', 'value', 'value', 'value', 'value', 'value', 'value', 'value', 'value', 'value', 'value', 'policy', 'value', 'policy', 'fact', 'policy', 'value', 'value', 'value', 'fact', 'fact', 'fact', 'policy', 'value', 'fact', 'fact', 'fact', 'value', 'fact', 'policy', 'value', 'value', 'fact', 'fact', 'policy', 'value', 'value', 'value', 'value', 'fact', 'value', 'value', 'value', 'policy', 'policy', 'policy', 'value', 'value', 'fact', 'fact', 'value', 'value', 'fact', 'value', 'value', 'fact', 'value', 'value', 'value', 'value', 'value', 'policy', 'policy', 'value', 'value', 'value', 'value', 'fact', 'policy', 'value', 'fact', 'fact', 'policy', 'fact', 'value', 'value', 'policy', 'policy', 'value', 'policy', 'policy', 'fact', 'value', 'value', 'policy', 'value', 'value', 'value', 'policy', 'value', 'value', 'policy', 'value', 'value', 'value', 'fact', 'value', 'policy', 'value', 'fact', 'value', 'policy', 'value', 'value', 'fact', 'value', 'value', 'value', 'policy', 'value', 'value', 'value', 'fact', 'value', 'value', 'value', 'value', 'fact', 'fact', 'value', 'value', 'value', 'value', 'value', 'value', 'value', 'fact', 'fact', 'value', 'value', 'policy', 'value', 'fact', 'value', 'fact', 'fact', 'policy', 'value', 'value', 'value', 'policy', 'value', 'value', 'value', 'value', 'value', 'fact', 'value', 'value', 'policy', 'value', 'value', 'value', 'value', 'policy', 'value', 'policy', 'policy', 'fact', 'value', 'value', 'value', 'value', 'value', 'value', 'value', 'value', 'value', 'policy', 'policy', 'policy', 'value', 'value', 'policy', 'value', 'fact', 'value', 'policy', 'value', 'fact', 'value', 'policy', 'value', 'value', 'value', 'value', 'value', 'policy', 'policy', 'policy', 'fact', 'value', 'value', 'value', 'value', 'policy', 'fact', 'fact', 'value', 'policy', 'value', 'fact', 'fact', 'fact', 'value', 'value', 'policy', 'policy', 'value', 'value', 'policy', 'value', 'value', 'value', 'value', 'fact', 'policy', 'value', 'fact', 'value', 'policy', 'policy', 'value', 'policy', 'value', 'fact', 'value', 'fact', 'value', 'policy', 'value', 'value', 'value', 'policy', 'value', 'fact', 'fact', 'fact', 'value', 'fact', 'fact', 'policy', 'policy', 'policy', 'value', 'value', 'value', 'policy', 'value', 'value', 'policy', 'value', 'fact', 'value', 'value', 'value', 'policy', 'value', 'value', 'policy', 'value', 'policy', 'value', 'value', 'value', 'value', 'value', 'fact', 'value']\n"
          ]
        }
      ],
      "source": [
        "list_of_predicted_labels = []\n",
        "for label in enumerate(svc_predicted):\n",
        "    list_of_predicted_labels.append(label[1])\n",
        "print(list_of_predicted_labels)"
      ]
    },
    {
      "cell_type": "code",
      "execution_count": 95,
      "metadata": {},
      "outputs": [
        {
          "data": {
            "text/plain": [
              "'After my marriage, the Dept of Ed (Higher Ed) offset two years of joint tax returns, private collection agencies constantly called.'"
            ]
          },
          "execution_count": 95,
          "metadata": {},
          "output_type": "execute_result"
        }
      ],
      "source": [
        "list_of_statements[10]"
      ]
    },
    {
      "cell_type": "code",
      "execution_count": 97,
      "metadata": {
        "tags": [
          "outputPrepend"
        ]
      },
      "outputs": [
        {
          "name": "stdout",
          "output_type": "stream",
          "text": [
            "ition would make that much of a difference.\",value,value', '\"I know the Court is to remain impartial, but in a small city, everybody knows everybody and sometimes it\\'s hard to see these practices occurring.\",value,value', '\"If a collector knows a service member passed away, then the spouse, executor, administrator should not be contacted and the account closed law or no law\",policy,policy', '\"That might work if each state had reasonable, intelligent and realistic collection rules.\",value,value', '\"Having gone through a Chapter 7 bankruptcy I can tell you that debt collector phone calls were the worst part of the bankruptcy experience.\",value,value', '\"We must first examine debt collection from a derivative and forensic viewpoint; corporate finance, federally/state funded institutions and their debt obligations.\",policy,policy', '\"No, most consumers are not lawyers.\",fact,value', '\"because if they were to start telling consumers to a to a certain website, that opens the door for spammers/hackers to increase virus infections by simply doing the same thing.\",value,value', '\"As a creditor, I can agree with this notification on medical services\",value,value', '\"All creditors send out mutiple letters and make numerous phone calls to the consumer to give them a chance to pay their just incurred debt\",fact,fact', '\"as one will not be provided for them by the state.\",fact,value', '\"Knowledge of the debt and money owed would need to have the same level of security afforded to consumer reports and information within a consumer report (as defined in the FCRA).\",policy,policy', '\"The technology is the same\",value,value', '\"although the dispute letter specifically asked for documentation.\",fact,fact', '\"So old fashioned.\",value,value', '\"The original debt owner or collection company that purchase the account, should produce the original copy of the signed contract, court documents, and any verifiable records relating to the dispute.\",policy,policy', '\"Enough is enough.\",value,value', '\"but what about accounts that never had a periodic statement or billing statement?\",value,value', '\"Either no number on the caller ID or a number linked back to the collection agency.\",policy,fact', '\"This question is most interesting with respect to student loans.\",value,value', '\"By making default judgment more difficult, the CFPB would only be rewarding the debtors who choose to take no action to resolve their complaints.\",value,value', '\"I\\'m with Massachusetts on this one.\",value,value', '\"Junk Debt buying should be prohibited all together.\",policy,policy', '\"My student loan company is giving me a ton of grief about allowing my husband to contact them regarding my student loan debt.\",value,value', '\"How does that help in debt collection? It doesn\\'t.\",value,value', '\"They can\\'t and they don\\'t care.\",value,value', '\"over 70% of our economy is based on consumer spending \",fact,fact', '\"Adding steep fines for double reporting would incentivize CRA\\'s to police their systems so each debt only garners one entry.\",value,value', '\"Why can\\'t these collectors do their research on the debtor, before they harrass the parents!!\",value,value', '\"and that is NOT fair to me.\",value,value', '\" do, however, believe that I have a moral obligation not to do so.\",value,value', '\"Most collectors cite 1692g verbatim to avoid liability for misleading consumers.\",fact,fact', '\"so they don\\'t keep calling the wrong number.\",fact,fact', '\"If you can get a million other delinquent consumers to go in with you on a 10% offer, you could probably get them to take it.\",value,value', '\"It just doesn\\'t seem ethical to punish a consumer \",value,value', '\"I can\\'t comment on any of this,\",value,value', '\"I do believe additional documentation as to chain of title be available if a consumer is being sued in Court.\",value,value', '\"It is unwise to require that the debt collector send sensitive personal information to the debtor (e.g., SSN, account number\",value,value', '\"When it comes to auto loans, and other monthly installment loans, I am sure the consumers are aware of the debt and who it is payable to, unless sold.\",value,value', '\"Some problems that debt collectors and buyers have with giving consumers this information arises in the field of Electronic Data Interchange.\",value,value', '\"Currently, Section 806 of the FDCPA makes abuse or harassment of debtors illegal.\",fact,fact', '\"It amended the Communications Act of 1934.\",fact,fact', '\"since this was an act of war which is NOT covered by most insurance plans), \",fact,value', '\"so these would need to be considered as well.\",value,value', '\"consumers in my opinion should be required to furnish some sort of support of dispute.\",policy,policy', '\"And I\\'ll just bet it is worst in the states with the least amount of consumer protection.\",value,value', '\"as these matters have always been governed appropriately by State law and State judges.\",value,fact', '\"Calling repeatedly, threatening, screaming, cursing at children gets collectors absolutely nowhere.\",value,value', '\"They 1) use vague names, no signature, post office boxes, a million aliases for their debt collection business\",value,fact', '\"The computers can be programmed to call once a day or a hundred times a day.\",fact,fact', '\"Their should be a cap on debts owed and the power that the agencies have on consumers.\",policy,policy', '\"This is unreal.\",value,value', '\"but I didn\\'t at the time.\",value,value', '\"The issue in the end isn\\'t the mechanics, or if they can request the debt not be reported.\",value,value', '\"As far as consumer protection, legal aid needs to be made available, affordable and effective,\",policy,policy', '\"That cost does not include overhead and employee cost.\",fact,value', '\"Debt collectors are very knowledgable in what they do.\",value,value', '\"Most people are aware of their obligations, but just cannot pay them now.\",fact,value', '\"In my experience with debt collectors, I have reached the conclusion that their are two reasons for repeatedly calling me:\",value,value', '\"Most consumers won\\'t respond to blocked numbers or ID\\'s anyway.\",value,value', '\"which means a consumer can be sued in Federal Court under supplemental jurisdiction provisions.\",fact,fact', '\"they certainly are\",value,value', '\"It seems like a no-brainer.\",value,value', '\"The CFPB should require debt sellers to contact the debtor and inform them the debt has been sold.\",policy,policy', '\"Besides, the lender has already sent several past due statements and a certified letter about the debt.\",fact,value', '\"as they have the original debt information, including SSN, phone and financial information.\",fact,value', '\"I support the 9am - 8pm hours.\",value,value', '\"I like the Summary of Rights idea.\",value,value', '\"And consumers should get full disclosure on who their debt has been sold\" to.\"\",policy,policy', '\"that wouldn\\'t be very efficient.\",value,value', '\"Stop allowing the companies to use hundreds of phone numbers to try to trick someone.\",policy,policy', '\"Collectors should have a way to make contact with consumers who choose not to have a flat-rate telephone service.\",policy,policy', '\"That process usually takes as much a 2 years or more.\",fact,fact', '\"I found this type of conduct outside the lines of common decency.\",value,value', '\"ased on 3rd party disclosure statue blocking the ID benifits the consumer.\",value,value', '\"The most abusive things debt collectors do are with their phones.\",value,value', '\"My experience has been that people younger than I (a boomer) prefer to communicate electronically (emails, texts & chats).\",value,value', '\"Further, the violations cannot be stacked\"\"\",fact,value', '\"but I still am not sure.\",value,value', '\"But where is the outside force to come from to make the obvious happen in regards to those three credit card wanrings?\",value,value', '\"Foti\" messages serve no one.\"\",value,value', '\"Just because the original creditor took a loss on it, doesn\\'t change what is really due.\",fact,value', '\"which should go to a physical address and to a person, not just a vague company name.\",policy,policy', '\"The debt buyer should not be able to sue for 900% of their investment.\",policy,policy', '\"and that the case should be subject to the laws of that jurisdiction, especially concerning the statute of limitations.\",policy,policy', '\"As to fine time, I would say 48 hours.\",value,value', '\"I understand that people have significant concerns about their credit reports.\",value,value', '\"Judges should be able to use logic to solve the growing backlog of credit card default cases.\",value,policy', '\"And if it is not a law, then isn\\'t it time that debt collection companies carry errors and omissions insurance?\",value,value', '\"By the time a file reaches litigation, the debtor has already received at least one prior opportunity to resolve the debt with the collector (the initial demand letter, which by law must inform the debtor of his/her right to challenge the veracity of the debt being pursued).\",fact,fact', '\"Why doesn\\'t the court give access to free legal counsel to debt defaulters the way they do to those who are accused of committing a crime?\",policy,value', '\"For a solution; the laws should be written so the common lay person can understand.\",policy,policy', '\"The collection agency got all hot and bothered and rude to me\",value,value', '\"so those violating the law 10 times on one debt, will generally only face the maximum of a $1000 penalty.\",value,fact', '\"because it seems to me they are in cahoots with each other.\",value,value', '\"To start they should obtain a credit report for starters regardless whether collectors disclose either way.\",policy,policy', '\"Too often consumers categorize this process as requiring proof\" as taxguy does.\"\",value,value', '\"That is about as generic of a description as one could give, \",value,value', '\"Rule number 1 strikes the right balance.\",value,value', '\"There are already rules.\",fact,value', '\"If Government Consumer Organizations are not willing to acknowledge those who care and show it, the system may never truly improve.\",value,value', '\"But if someone wants the ability to stop someone from conducting any and all robocalls from all phones, and robocalls help creditors recoup their loans, then the creditor should be able to charge a regulated fee for that convenience.\",policy,policy', '\"They should not have free-to-end-user \",policy,policy', '\"Furthermore, the seller of the debt must be required and enforced to annotate the debtors credit report with the sale to help eliminate confusion and in a way to not increase the bad debt.\",policy,policy', '\"Right now, original creditors offer no significant reduced rate to debtor before selling for 4 cents on the dollar.\",fact,fact', '\"This kind of thing is likely determined by family court law in the jurisdiction where the debtor lives.\",value,value', '\"I think the author of the above note had some very well reasoned thoughts.\",value,value', '\"the more abusive ones robo call several times a day and hang up when an answering machine picks up).\",fact,value', '\"My hope, and my suggestion, is that there could be some way for debtors to make collection agencies aware of the fact that the debtor has a documented medical disability, and that abusive or harassing phone calls have additional health consequences for the debtor.\",value,value', '\"I think the law should be clarified,\",policy,policy', '\"The debt collector has no authority to correct the mistake,\",value,fact', '\"For goodness sake it is 2013!!!\",fact,fact', '\"this is why it will always remain illegal for debt collectors to call cell phones.\",value,value', '\"Require them to state their name and ID number just like IRS employees do.\",policy,policy', '\"I understand the need to protect privacy,\",value,value', '\"but the judgment debtor is the real party in interest.\",value,fact', '\"s FICO (the industry standard) uses proprietary algorithm that the collection agent cannot possibly guess at.\",fact,fact', '\"The Telephone Consumer Protection Act (TCPA) prohibits creditors from using automated dialing systems to call cell phone numbers without consent from the customer.\",fact,fact', '\"Otherwise some consumers will game\" the system and make false disputes.\"\",value,value', '\"3 months (or whatever an appropriate time limit is) would reduce the constant harassment that I and many other innocent parties receive.\",value,value', '\"If a consumer states that he disputes the debt, the debt collector should immediately cease ALL collection activity until the debt is validated.\",policy,policy', '\"This letter would only be sent if the creditors intentions are to sell the debt and not just another attempt to collect.\"\",policy,policy', '\"In addition, since email \"sender ID\" is easier to demand and maintain,\",value,value', '\"A hard pull\" will decrease a consumers credit score and will be visible for up to 25 months to anyone who does have a legitimate permissible purpose to view that consumer\"s credit report\"\",fact,value', '\"Furthermore, that these three words need to be separated, clarified and their legal handling completely examined.\",policy,policy', '\"additionally the name of the consumer\\'s insurance Co./plan on the validation notice would be quite helpful.\",value,value', '\"I\\'d like to see a plain language amendment to that section of the FDCPA,\",policy,value', '\"if you don\\'t tell me who you are or what you are calling about, I consider it spam.\",value,value', '\"A collector\\'s toll-free number is the ideal number to display on Caller ID,\",value,value', '\"The FTC says \"reasonable\" investigation but these companies do none\",value,fact', '\"Instead creditors and debt buyers should be mandated to allow secure document uploading to their own website with official notification that the document has been reviewed.\",policy,policy', '\"There are currently established credit reporting agencies to monitor the consumer side of this issue and an additional, numerical evaluation score can be added to the consumer\\'s already established credit report.\",fact,value', '\"Consumers are typically notified numerous times before the account is sent to a collection agency.\",fact,fact', '\"I believe that a third party debt buyer should be limited as to how much they can sue for above their initial investment.\",policy,value', '\"and I want to be able to file an errors and omissions claim with both debt collectors insurance company for lying on court documents.\",value,policy', '\"If there is a concern for protecting consumers in this particular area, I recommend a section of the rule that prohibits collections from choosing a court venue with the intention of interfering with the consumer\\'s ability to participate in the action.\",policy,policy', '\"t all depends on the employer and the work conditions surrounding the consumer.\",value,value', '\"The seller of any consumer debt should be required to notify the debtor of which debt owed to which creditor, is being sold by xyz organization to 123 debt collector.\",policy,policy', '\"Lack of oversight, lack of clear rules and lack of enforcement.\",value,value', '\"People lose their jobs, get laid off, get sick and can\\'t work, retire and try to make it from one month to the next on miniscule retirement benefits.\",fact,fact', '\"In 2010, the FTC released a report, \"Repairing A Broken System,\" which made mention of the need a universal statute of limitations.\",fact,value', '\"That presumes they actually follow the law and do a validation investigation.\",value,fact', '\"because a person out of work isn\\'t likely to pay.\",value,value', '\"And when there are a change in debt collectors, the consumer should be notified.\",policy,policy', '\"I want a written trail.\",value,value', '\"ince online is more rushed by the people hired to handle this.\",value,value', '\"because nothing is ever done by way of enforcement and the collectors know this.\",fact,value', '\"After complete due process has been exhausted, the record should be completely removed from the consumer file.\",policy,policy', '\"And I don\\'t see why I should pay for the call.\",value,value', '\"but I have noticed that credit card agreements often contain statements advising consumers that if suit is brought, it will occur in a specified jurisdiction or as provided for by law.\"\"\",fact,fact', '\"Then some debt buyer buys a portfolio of un-performing debt and pays a dime on a dollar for it.\",fact,fact', '\"They use various numbers\",fact,fact', '\"Once the fear of being sued is removed, the chances of a collector to collect is very minute.\",value,value', '\"The business or entity was provided contact information by the consumer that it will use to collect or pass along to a collection agency to use to collect.\",fact,fact', '\"Some act as loan sharks and not collection agencies.\",value,fact', '\"You need to create fines and actually impose them.\",policy,policy', '\"so they should not call my cell and cost me more money that will prolong them getting paid.\",policy,policy', '\"but their predatory practices need to be regulated.\",policy,policy', '\"It has also made me paranoid about my own finances.\",value,value', '\"why use euphemisms.\",value,value', '\"It\\'s the ones that are trying to scam consumers that give as little detail as possible in hope that someone panics and fills in the blanks for them.\",value,value', '\"Assign the debt to one collector who would then take full responsibility for making all contacts with the alleged debtor.\",policy,policy', '\"The problem is enforcement.\",value,value', '\"I think your idea is an excellent one.\",value,value', '\"The principle behind any rules promulgated by the CFPB must ensure that no alleged debtor get bullied into paying up or blind-sided by the court into doing so.\",policy,policy', '\"Absent a means for consumers to identify an account there is no way for them to verify that they have previously paid that debt.\",fact,value', '\"debt collectors are not fiduciaries\",fact,fact', '\"They have violated our privacy and the right to peaceful enjoyment of our home one too many times.\",value,value', '\"Too many collectors call and never report the mini-Miranda warning\".\"\",value,value', '\"What this does is free the debtor\\'s phone lines so they can completely focus on moving forward rather than engage in pointless rat a tat with repetitive debt collection callers.\",value,value', '\"If the debt collector cannot produce this evidence, he should be barred from reselling the debt or reporting it to the CRAs.\",policy,policy', '\"Multiply that cost by the number of notices and statements already sent (and ignored) and you begin to see the true cost of collection.\",value,value', '\"It would be okay if the consumer wants more & more communications if the creditor or agency can bill the consumer for the postage.\",value,value', '\"But let\\'s not let the perfect be the enemy of the good.\",policy,policy', '\"If other debts related to the same visit have been paid, the letter should say so, e.g., \"You already paid for other services during this visit, but you still owe...\" Or, \"Your insurance paid for some of the costs of this visit, but you still owe....\"\",policy,value', '\"Additionally, there should be some form of penalty for collectors who engage in this demeaning and useless practice.\",policy,policy', '\"I know it is them \",value,value', '\"but I do not see any information requiring details on the content of Robo-Calls. \",value,value', '\"State and local court rules sometimes make default judgments much more likely.\",value,value', '\"If the CFPB truly is about protecting the interests of the consumer, then the debt collection process needs to be simplified drastically in regard to collection items (medical, utilities, etc.).\",policy,value', '\"Probably won\\'t find any legislation\",value,value', '\"because the companies making these calls are usually the same scofflaws who have been sued repeatedly for trying to collect nonexistent debts.\",fact,fact', '\"Bayview may be a debt collector,\",fact,value']\n"
          ]
        }
      ],
      "source": [
        "error_analysis_list = []\n",
        "for index, label in enumerate(test_labels):\n",
        "    error_analysis_list.append('\"' + list_of_statements[index] + '\",' + list_of_true_labels[index] + ',' + list_of_predicted_labels[index])\n",
        "print(error_analysis_list)"
      ]
    },
    {
      "cell_type": "code",
      "execution_count": 98,
      "metadata": {},
      "outputs": [
        {
          "data": {
            "text/plain": [
              "<function TextIOWrapper.close()>"
            ]
          },
          "execution_count": 98,
          "metadata": {},
          "output_type": "execute_result"
        }
      ],
      "source": [
        "f = open('error_analysis_quotes.txt', 'a')\n",
        "\n",
        "for statements in error_analysis_list:\n",
        "    f.write(statements + '\\n')\n",
        "f.close"
      ]
    },
    {
      "cell_type": "code",
      "execution_count": 80,
      "metadata": {},
      "outputs": [
        {
          "ename": "SyntaxError",
          "evalue": "invalid syntax (<ipython-input-80-0629c2a967c1>, line 2)",
          "output_type": "error",
          "traceback": [
            "\u001b[1;36m  File \u001b[1;32m\"<ipython-input-80-0629c2a967c1>\"\u001b[1;36m, line \u001b[1;32m2\u001b[0m\n\u001b[1;33m    train_features, test_features, train_labels, test_labels train_statements, test_statements = train_test_split(features, labels, statements, stratify=labels)\u001b[0m\n\u001b[1;37m                                                                                               ^\u001b[0m\n\u001b[1;31mSyntaxError\u001b[0m\u001b[1;31m:\u001b[0m invalid syntax\n"
          ]
        }
      ],
      "source": [
        "#instantiate variables for stratified train test split\n",
        "train_features, test_features, train_labels, test_labels train_statements, test_statements = train_test_split(features, labels, statements, stratify=labels)"
      ]
    },
    {
      "cell_type": "code",
      "execution_count": null,
      "metadata": {},
      "outputs": [],
      "source": []
    }
  ],
  "metadata": {
    "accelerator": "GPU",
    "colab": {
      "name": "PropositionClassification.ipynb",
      "provenance": []
    },
    "interpreter": {
      "hash": "e474b628559da144331c39781cde527f9eea2c7f80abebb285873998c8fbeaa1"
    },
    "kernelspec": {
      "display_name": "Python 3.9.2 64-bit",
      "name": "python3"
    },
    "language_info": {
      "codemirror_mode": {
        "name": "ipython",
        "version": 3
      },
      "file_extension": ".py",
      "mimetype": "text/x-python",
      "name": "python",
      "nbconvert_exporter": "python",
      "pygments_lexer": "ipython3",
      "version": "3.9.2"
    },
    "metadata": {
      "interpreter": {
        "hash": "e474b628559da144331c39781cde527f9eea2c7f80abebb285873998c8fbeaa1"
      }
    }
  },
  "nbformat": 4,
  "nbformat_minor": 0
}
